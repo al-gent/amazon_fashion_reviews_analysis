{
 "cells": [
  {
   "cell_type": "code",
   "execution_count": 1,
   "metadata": {},
   "outputs": [],
   "source": [
    "import json\n",
    "import pandas as pd\n",
    "from pyspark import SparkContext\n",
    "from pyspark.rdd import RDD"
   ]
  },
  {
   "cell_type": "code",
   "execution_count": 2,
   "metadata": {},
   "outputs": [
    {
     "name": "stderr",
     "output_type": "stream",
     "text": [
      "24/11/16 15:48:27 WARN Utils: Your hostname, Adams-MacBook-Air.local resolves to a loopback address: 127.0.0.1; using 10.0.0.82 instead (on interface en0)\n",
      "24/11/16 15:48:27 WARN Utils: Set SPARK_LOCAL_IP if you need to bind to another address\n",
      "Setting default log level to \"WARN\".\n",
      "To adjust logging level use sc.setLogLevel(newLevel). For SparkR, use setLogLevel(newLevel).\n",
      "24/11/16 15:48:27 WARN NativeCodeLoader: Unable to load native-hadoop library for your platform... using builtin-java classes where applicable\n",
      "24/11/16 15:48:28 WARN Utils: Service 'SparkUI' could not bind on port 4040. Attempting port 4041.\n"
     ]
    }
   ],
   "source": [
    "sc = SparkContext(appName=\"SubsetJSON\")"
   ]
  },
  {
   "cell_type": "code",
   "execution_count": 3,
   "metadata": {},
   "outputs": [],
   "source": [
    "meta_subset_file = '../subset_meta.jsonl'\n",
    "subset_file = '../subsetAF.jsonl'\n",
    "data = []\n",
    "\n",
    "with open(subset_file, 'r') as fp:\n",
    "    for i, line in enumerate(fp):\n",
    "        data.append(json.loads(line))\n",
    "\n",
    "metadata = []\n",
    "with open(meta_subset_file, 'r') as fp:\n",
    "    for i, line in enumerate(fp):\n",
    "        metadata.append(json.loads(line))"
   ]
  },
  {
   "cell_type": "code",
   "execution_count": 4,
   "metadata": {},
   "outputs": [],
   "source": [
    "subset_rdd = sc.parallelize(data)\n",
    "meta_subset_rdd = sc.parallelize(metadata)"
   ]
  },
  {
   "cell_type": "code",
   "execution_count": 37,
   "metadata": {},
   "outputs": [],
   "source": [
    "meta_rdd = meta_subset_rdd.map(lambda review: list(review.values()))\n",
    "meta_pair_rdd = meta_rdd.map(lambda row: (row[-2], row[:-2] + [row[-1]]))\n"
   ]
  },
  {
   "cell_type": "code",
   "execution_count": 5,
   "metadata": {},
   "outputs": [],
   "source": [
    "values_rdd = subset_rdd.map(lambda review: list(review.values()))"
   ]
  },
  {
   "cell_type": "code",
   "execution_count": 14,
   "metadata": {},
   "outputs": [],
   "source": [
    "pair_rdd = values_rdd.map(lambda row: (row[5], row[:5] + row[6:]))"
   ]
  },
  {
   "cell_type": "code",
   "execution_count": 7,
   "metadata": {},
   "outputs": [],
   "source": [
    "avg_stars = {}\n",
    "for i in range(5):\n",
    "    avg_stars[i+1] = values_rdd.filter(lambda row: row[0] == float(i+1)).map(lambda row: len(row[2])).mean()"
   ]
  },
  {
   "cell_type": "code",
   "execution_count": 8,
   "metadata": {},
   "outputs": [
    {
     "data": {
      "text/plain": [
       "{1: 241.24924012158056,\n",
       " 2: 339.53333333333336,\n",
       " 3: 343.615969581749,\n",
       " 4: 389.0729261622608,\n",
       " 5: 283.26746290264197}"
      ]
     },
     "execution_count": 8,
     "metadata": {},
     "output_type": "execute_result"
    }
   ],
   "source": [
    "avg_stars\n"
   ]
  },
  {
   "cell_type": "code",
   "execution_count": 50,
   "metadata": {},
   "outputs": [
    {
     "name": "stderr",
     "output_type": "stream",
     "text": [
      "24/11/16 16:05:51 WARN TaskSetManager: Stage 75 contains a task of very large size (1022 KiB). The maximum recommended task size is 1000 KiB.\n"
     ]
    },
    {
     "data": {
      "text/plain": [
       "76"
      ]
     },
     "execution_count": 50,
     "metadata": {},
     "output_type": "execute_result"
    }
   ],
   "source": [
    "joined_rdd = meta_pair_rdd.join(pair_rdd)\n",
    "# first element in the value is the product metadata\n",
    "# second element in the value is the review\n",
    "# right now we only have 76 matches, because we are working with a subset of both metadata and the reviews. \n",
    "joined_rdd.count()\n"
   ]
  },
  {
   "cell_type": "code",
   "execution_count": null,
   "metadata": {},
   "outputs": [],
   "source": []
  }
 ],
 "metadata": {
  "kernelspec": {
   "display_name": "DistributedComputing",
   "language": "python",
   "name": "python3"
  },
  "language_info": {
   "codemirror_mode": {
    "name": "ipython",
    "version": 3
   },
   "file_extension": ".py",
   "mimetype": "text/x-python",
   "name": "python",
   "nbconvert_exporter": "python",
   "pygments_lexer": "ipython3",
   "version": "3.8.20"
  }
 },
 "nbformat": 4,
 "nbformat_minor": 2
}
